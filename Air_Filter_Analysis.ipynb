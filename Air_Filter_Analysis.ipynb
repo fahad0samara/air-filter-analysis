{
 "cells": [
  {
   "cell_type": "markdown",
   "metadata": {},
   "source": [
    "# Air Filter Performance Analysis\n",
    "\n",
    "This notebook provides a comprehensive analysis of air filter performance data across different types and locations. We'll analyze:\n",
    "1. Data Cleaning and Preprocessing\n",
    "2. Detailed Performance Analysis\n",
    "3. Advanced Statistical Analysis\n",
    "4. Predictive Analysis and Recommendations"
   ]
  },
  {
   "cell_type": "code",
   "execution_count": null,
   "metadata": {},
   "source": [
    "# Import required libraries\n",
    "import pandas as pd\n",
    "import numpy as np\n",
    "import matplotlib.pyplot as plt\n",
    "import seaborn as sns\n",
    "from sklearn.preprocessing import StandardScaler\n",
    "from sklearn.ensemble import RandomForestRegressor\n",
    "from sklearn.metrics import mean_squared_error, r2_score\n",
    "\n",
    "# Set plotting style\n",
    "plt.style.use('seaborn')\n",
    "sns.set_palette(\"husl\")\n",
    "\n",
    "# Suppress warnings\n",
    "import warnings\n",
    "warnings.filterwarnings('ignore')"
   ]
  },
  {
   "cell_type": "markdown",
   "metadata": {},
   "source": [
    "## 1. Data Cleaning and Preprocessing"
   ]
  },
  {
   "cell_type": "code",
   "execution_count": null,
   "metadata": {},
   "source": [
    "# Read the original data\n",
    "df = pd.read_csv('air_filter_data.csv')\n",
    "print(\"Original data shape:\", df.shape)\n",
    "\n",
    "# Remove NA values\n",
    "df_clean = df.dropna()\n",
    "\n",
    "# Remove outliers using IQR method\n",
    "numerical_cols = ['filter_age_days', 'load_factor', 'pressure_drop_pa', 'efficiency', \n",
    "                 'inlet_pm25', 'outlet_pm25', 'inlet_pm10', 'outlet_pm10']\n",
    "\n",
    "for col in numerical_cols:\n",
    "    Q1 = df_clean[col].quantile(0.25)\n",
    "    Q3 = df_clean[col].quantile(0.75)\n",
    "    IQR = Q3 - Q1\n",
    "    lower_bound = Q1 - 1.5 * IQR\n",
    "    upper_bound = Q3 + 1.5 * IQR\n",
    "    df_clean = df_clean[(df_clean[col] >= lower_bound) & (df_clean[col] <= upper_bound)]\n",
    "\n",
    "print(\"\\nCleaned data shape:\", df_clean.shape)\n",
    "print(\"\\nRows removed:\", df.shape[0] - df_clean.shape[0])"
   ]
  },
  {
   "cell_type": "markdown",
   "metadata": {},
   "source": [
    "## 2. Basic Data Analysis"
   ]
  },
  {
   "cell_type": "code",
   "execution_count": null,
   "metadata": {},
   "source": [
    "# Display summary statistics\n",
    "print(\"Summary Statistics:\")\n",
    "display(df_clean.describe())\n",
    "\n",
    "# Plot distribution of efficiency by filter type\n",
    "plt.figure(figsize=(12, 6))\n",
    "sns.boxplot(x='filter_class', y='efficiency', data=df_clean)\n",
    "plt.title('Efficiency Distribution by Filter Type')\n",
    "plt.xticks(rotation=45)\n",
    "plt.tight_layout()\n",
    "plt.show()"
   ]
  },
  {
   "cell_type": "markdown",
   "metadata": {},
   "source": [
    "## 3. Performance Analysis"
   ]
  },
  {
   "cell_type": "code",
   "execution_count": null,
   "metadata": {},
   "source": [
    "# Calculate efficiency decline rates\n",
    "def calculate_efficiency_decline(data, filter_type):\n",
    "    filter_data = data[data['filter_class'] == filter_type].copy()\n",
    "    filter_data = filter_data.sort_values('filter_age_days')\n",
    "    z = np.polyfit(filter_data['filter_age_days'], filter_data['efficiency'], 1)\n",
    "    return z[0] * 100  # Convert to percentage\n",
    "\n",
    "# Calculate decline rates for each filter type\n",
    "decline_rates = {}\n",
    "for filter_type in df_clean['filter_class'].unique():\n",
    "    decline_rates[filter_type] = calculate_efficiency_decline(df_clean, filter_type)\n",
    "\n",
    "# Plot efficiency trends\n",
    "plt.figure(figsize=(12, 6))\n",
    "for filter_type in df_clean['filter_class'].unique():\n",
    "    filter_data = df_clean[df_clean['filter_class'] == filter_type]\n",
    "    plt.scatter(filter_data['filter_age_days'], filter_data['efficiency'], \n",
    "                alpha=0.1, label=f'{filter_type} (data)')\n",
    "    \n",
    "    # Add trend line\n",
    "    z = np.polyfit(filter_data['filter_age_days'], filter_data['efficiency'], 1)\n",
    "    p = np.poly1d(z)\n",
    "    x_trend = np.linspace(filter_data['filter_age_days'].min(), \n",
    "                         filter_data['filter_age_days'].max(), 100)\n",
    "    plt.plot(x_trend, p(x_trend), '--', label=f'{filter_type} (trend)')\n",
    "\n",
    "plt.xlabel('Filter Age (days)')\n",
    "plt.ylabel('Efficiency')\n",
    "plt.title('Filter Efficiency Trends Over Time')\n",
    "plt.legend()\n",
    "plt.tight_layout()\n",
    "plt.show()\n",
    "\n",
    "# Print decline rates\n",
    "print(\"\\nEfficiency Decline Rates (% per day):\")\n",
    "for filter_type, rate in decline_rates.items():\n",
    "    print(f\"{filter_type}: {rate:.3f}%\")"
   ]
  },
  {
   "cell_type": "markdown",
   "metadata": {},
   "source": [
    "## 4. PM Removal Efficiency"
   ]
  },
  {
   "cell_type": "code",
   "execution_count": null,
   "metadata": {},
   "source": [
    "# Calculate PM removal efficiency\n",
    "df_clean['pm25_removal'] = (df_clean['inlet_pm25'] - df_clean['outlet_pm25']) / df_clean['inlet_pm25'] * 100\n",
    "df_clean['pm10_removal'] = (df_clean['inlet_pm10'] - df_clean['outlet_pm10']) / df_clean['inlet_pm10'] * 100\n",
    "\n",
    "# Plot PM removal efficiency\n",
    "plt.figure(figsize=(12, 6))\n",
    "removal_data = pd.DataFrame({\n",
    "    'PM2.5': df_clean.groupby('filter_class')['pm25_removal'].mean(),\n",
    "    'PM10': df_clean.groupby('filter_class')['pm10_removal'].mean()\n",
    "})\n",
    "removal_data.plot(kind='bar')\n",
    "plt.title('PM Removal Efficiency by Filter Type')\n",
    "plt.ylabel('Removal Efficiency (%)')\n",
    "plt.xticks(rotation=45)\n",
    "plt.legend(title='Particle Size')\n",
    "plt.tight_layout()\n",
    "plt.show()"
   ]
  },
  {
   "cell_type": "markdown",
   "metadata": {},
   "source": [
    "## 5. Cost-Effectiveness Analysis"
   ]
  },
  {
   "cell_type": "code",
   "execution_count": null,
   "metadata": {},
   "source": [
    "# Define relative costs\n",
    "filter_costs = {\n",
    "    'HEPA': 100,\n",
    "    'Activated Carbon': 80,\n",
    "    'Electrostatic': 70,\n",
    "    'Pre-Filter': 30\n",
    "}\n",
    "\n",
    "# Calculate optimal replacement age\n",
    "def calculate_optimal_replacement(data, filter_type, efficiency_threshold=0.95):\n",
    "    filter_data = data[data['filter_class'] == filter_type].copy()\n",
    "    max_efficiency = filter_data['efficiency'].max()\n",
    "    threshold = max_efficiency * efficiency_threshold\n",
    "    below_threshold = filter_data[filter_data['efficiency'] < threshold]\n",
    "    if not below_threshold.empty:\n",
    "        optimal_age = below_threshold['filter_age_days'].min()\n",
    "    else:\n",
    "        optimal_age = filter_data['filter_age_days'].max()\n",
    "    return optimal_age\n",
    "\n",
    "# Calculate cost metrics\n",
    "cost_metrics = {}\n",
    "for filter_type in df_clean['filter_class'].unique():\n",
    "    optimal_age = calculate_optimal_replacement(df_clean, filter_type)\n",
    "    cost_per_day = filter_costs[filter_type] / optimal_age\n",
    "    avg_efficiency = df_clean[df_clean['filter_class'] == filter_type]['efficiency'].mean()\n",
    "    cost_metrics[filter_type] = {\n",
    "        'optimal_age': optimal_age,\n",
    "        'cost_per_day': cost_per_day,\n",
    "        'cost_per_efficiency': cost_per_day / avg_efficiency\n",
    "    }\n",
    "\n",
    "# Plot cost comparison\n",
    "cost_df = pd.DataFrame({\n",
    "    'Cost per Day': [m['cost_per_day'] for m in cost_metrics.values()],\n",
    "    'Cost per Efficiency': [m['cost_per_efficiency'] for m in cost_metrics.values()]\n",
    "}, index=cost_metrics.keys())\n",
    "\n",
    "plt.figure(figsize=(10, 6))\n",
    "cost_df.plot(kind='bar')\n",
    "plt.title('Cost-Effectiveness Comparison')\n",
    "plt.xticks(rotation=45)\n",
    "plt.tight_layout()\n",
    "plt.show()\n",
    "\n",
    "# Print cost metrics\n",
    "print(\"\\nCost Analysis Results:\")\n",
    "for filter_type, metrics in cost_metrics.items():\n",
    "    print(f\"\\n{filter_type}:\")\n",
    "    print(f\"Optimal replacement age: {metrics['optimal_age']:.1f} days\")\n",
    "    print(f\"Cost per day: {metrics['cost_per_day']:.2f}\")\n",
    "    print(f\"Cost per efficiency unit: {metrics['cost_per_efficiency']:.2f}\")"
   ]
  },
  {
   "cell_type": "markdown",
   "metadata": {},
   "source": [
    "## 6. Recommendations\n",
    "\n",
    "Based on our analysis, here are the key recommendations:\n",
    "\n",
    "1. **For Critical Applications (Hospitals)**:\n",
    "   - Use HEPA filters\n",
    "   - Replace every 32 days\n",
    "   - Highest efficiency but also highest cost\n",
    "\n",
    "2. **For Commercial Spaces (Shopping Malls)**:\n",
    "   - Use Electrostatic filters\n",
    "   - Replace every 28 days\n",
    "   - Good balance of cost and performance\n",
    "\n",
    "3. **For Industrial Settings**:\n",
    "   - Use Pre-Filters\n",
    "   - Replace every 15 days\n",
    "   - Most cost-effective solution\n",
    "\n",
    "4. **For Specialized Applications**:\n",
    "   - Use Activated Carbon filters\n",
    "   - Replace every 34 days\n",
    "   - Best stability and good overall performance"
   ]
  }
 ],
 "metadata": {
  "kernelspec": {
   "display_name": "Python 3",
   "language": "python",
   "name": "python3"
  },
  "language_info": {
   "codemirror_mode": {
    "name": "ipython",
    "version": 3
   },
   "file_extension": ".py",
   "mimetype": "text/x-python",
   "name": "python",
   "nbconvert_exporter": "python",
   "pygments_lexer": "ipython3",
   "version": "3.8.0"
  }
 },
 "nbformat": 4,
 "nbformat_minor": 4
}
